{
 "cells": [
  {
   "cell_type": "code",
   "execution_count": 10,
   "id": "82020bdd",
   "metadata": {
    "scrolled": false
   },
   "outputs": [
    {
     "name": "stdout",
     "output_type": "stream",
     "text": [
      "\n",
      "Do Stuff..\n"
     ]
    }
   ],
   "source": [
    "album_year = 1991\n",
    "if(album_year > 1979) and (album_year < 1990):\n",
    " print (\"Album year was in between 1980 and 1989\")\n",
    "\n",
    "print(\"\")\n",
    "print(\"Do Stuff..\")       "
   ]
  },
  {
   "cell_type": "code",
   "execution_count": 4,
   "id": "7302dba3",
   "metadata": {},
   "outputs": [
    {
     "data": {
      "text/plain": [
       "False"
      ]
     },
     "execution_count": 4,
     "metadata": {},
     "output_type": "execute_result"
    }
   ],
   "source": [
    "\"ACDC\" == \"Lara Jackson\"\n"
   ]
  },
  {
   "cell_type": "code",
   "execution_count": 5,
   "id": "53ec4793",
   "metadata": {},
   "outputs": [
    {
     "data": {
      "text/plain": [
       "True"
      ]
     },
     "execution_count": 5,
     "metadata": {},
     "output_type": "execute_result"
    }
   ],
   "source": [
    "\"ACDC\" != \"lara Jackson\"\n"
   ]
  },
  {
   "cell_type": "code",
   "execution_count": 6,
   "id": "90768f38",
   "metadata": {},
   "outputs": [
    {
     "data": {
      "text/plain": [
       "True"
      ]
     },
     "execution_count": 6,
     "metadata": {},
     "output_type": "execute_result"
    }
   ],
   "source": [
    "'B' > 'A'\n"
   ]
  },
  {
   "cell_type": "code",
   "execution_count": 9,
   "id": "a25e3385",
   "metadata": {},
   "outputs": [
    {
     "data": {
      "text/plain": [
       "False"
      ]
     },
     "execution_count": 9,
     "metadata": {},
     "output_type": "execute_result"
    }
   ],
   "source": [
    "'B' < 'A'"
   ]
  },
  {
   "cell_type": "code",
   "execution_count": null,
   "id": "09c0c075",
   "metadata": {},
   "outputs": [],
   "source": []
  }
 ],
 "metadata": {
  "kernelspec": {
   "display_name": "Python 3 (ipykernel)",
   "language": "python",
   "name": "python3"
  },
  "language_info": {
   "codemirror_mode": {
    "name": "ipython",
    "version": 3
   },
   "file_extension": ".py",
   "mimetype": "text/x-python",
   "name": "python",
   "nbconvert_exporter": "python",
   "pygments_lexer": "ipython3",
   "version": "3.9.12"
  }
 },
 "nbformat": 4,
 "nbformat_minor": 5
}
