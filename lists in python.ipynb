{
 "cells": [
  {
   "cell_type": "code",
   "execution_count": 6,
   "id": "40d358e8",
   "metadata": {
    "scrolled": false
   },
   "outputs": [
    {
     "data": {
      "text/plain": [
       "['Marten Dyally', 2.1, 1986]"
      ]
     },
     "execution_count": 6,
     "metadata": {},
     "output_type": "execute_result"
    }
   ],
   "source": [
    "# Create a list\n",
    "\n",
    "L = [\"Marten Dyally\", 2.1, 1986]\n",
    "L"
   ]
  },
  {
   "cell_type": "code",
   "execution_count": 7,
   "id": "aa769123",
   "metadata": {},
   "outputs": [
    {
     "name": "stdout",
     "output_type": "stream",
     "text": [
      "the same element using negative and positive indexing:\n",
      " Postive: Marten Dyally \\ Negative: Marten Dyally\n",
      "the same element using negative and positive indexing:\n",
      " Postive: 2.1 \\ Negative: 2.1\n",
      "the same element using negative and positive indexing:\n",
      " Postive: 1986 \\ Negative: 1986\n"
     ]
    }
   ],
   "source": [
    "# Print the elements on each index\n",
    "\n",
    "print(\"the same element using negative and positive indexing:\\n Postive:\" ,L[0],\n",
    "     '\\ Negative:' , L[-3])\n",
    "print(\"the same element using negative and positive indexing:\\n Postive:\" ,L[1],\n",
    "     '\\ Negative:' , L[-2])\n",
    "print(\"the same element using negative and positive indexing:\\n Postive:\" ,L[2],\n",
    "     '\\ Negative:' , L[-1])"
   ]
  },
  {
   "cell_type": "code",
   "execution_count": 5,
   "id": "9d93f52c",
   "metadata": {},
   "outputs": [
    {
     "ename": "SyntaxError",
     "evalue": "invalid syntax (1064668974.py, line 3)",
     "output_type": "error",
     "traceback": [
      "\u001b[1;36m  Input \u001b[1;32mIn [5]\u001b[1;36m\u001b[0m\n\u001b[1;33m    [\"Marten Dyally\", 2.1, 1986, [1, 2], (\"A\" 1)]\u001b[0m\n\u001b[1;37m                                              ^\u001b[0m\n\u001b[1;31mSyntaxError\u001b[0m\u001b[1;31m:\u001b[0m invalid syntax\n"
     ]
    }
   ],
   "source": [
    "# Sample List \n",
    "\n",
    "[\"Marten Dyally\", 2.1, 1986, [1, 2], (\"A\" 1)]"
   ]
  },
  {
   "cell_type": "code",
   "execution_count": 10,
   "id": "1f1ee6f9",
   "metadata": {},
   "outputs": [
    {
     "data": {
      "text/plain": [
       "['Marten Dyally', 2.1, 1986, 'MD', 1]"
      ]
     },
     "execution_count": 10,
     "metadata": {},
     "output_type": "execute_result"
    }
   ],
   "source": [
    "# Sample List\n",
    "\n",
    "L = [\"Marten Dyally\", 2.1,1986,\"MD\",1]\n",
    "L"
   ]
  },
  {
   "cell_type": "code",
   "execution_count": null,
   "id": "c1a61b6e",
   "metadata": {},
   "outputs": [],
   "source": []
  },
  {
   "cell_type": "code",
   "execution_count": null,
   "id": "07b17c05",
   "metadata": {},
   "outputs": [],
   "source": []
  }
 ],
 "metadata": {
  "kernelspec": {
   "display_name": "Python 3 (ipykernel)",
   "language": "python",
   "name": "python3"
  },
  "language_info": {
   "codemirror_mode": {
    "name": "ipython",
    "version": 3
   },
   "file_extension": ".py",
   "mimetype": "text/x-python",
   "name": "python",
   "nbconvert_exporter": "python",
   "pygments_lexer": "ipython3",
   "version": "3.9.12"
  }
 },
 "nbformat": 4,
 "nbformat_minor": 5
}
