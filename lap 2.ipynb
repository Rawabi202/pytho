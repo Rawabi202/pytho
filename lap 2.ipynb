{
 "cells": [
  {
   "cell_type": "code",
   "execution_count": 1,
   "id": "be4e97d2",
   "metadata": {},
   "outputs": [
    {
     "data": {
      "text/plain": [
       "'RAWABI AHMED'"
      ]
     },
     "execution_count": 1,
     "metadata": {},
     "output_type": "execute_result"
    }
   ],
   "source": [
    "\"RAWABI AHMED\""
   ]
  },
  {
   "cell_type": "code",
   "execution_count": 2,
   "id": "9cbc8d64",
   "metadata": {},
   "outputs": [
    {
     "data": {
      "text/plain": [
       "'RAWABI AHMED'"
      ]
     },
     "execution_count": 2,
     "metadata": {},
     "output_type": "execute_result"
    }
   ],
   "source": [
    "'RAWABI AHMED'"
   ]
  },
  {
   "cell_type": "code",
   "execution_count": 3,
   "id": "bfec8eb3",
   "metadata": {},
   "outputs": [
    {
     "data": {
      "text/plain": [
       "'1 3 4 5'"
      ]
     },
     "execution_count": 3,
     "metadata": {},
     "output_type": "execute_result"
    }
   ],
   "source": [
    "'1 3 4 5'"
   ]
  },
  {
   "cell_type": "code",
   "execution_count": 6,
   "id": "24f7de1f",
   "metadata": {},
   "outputs": [
    {
     "ename": "SyntaxError",
     "evalue": "unexpected EOF while parsing (3498999905.py, line 3)",
     "output_type": "error",
     "traceback": [
      "\u001b[1;36m  Input \u001b[1;32mIn [6]\u001b[1;36m\u001b[0m\n\u001b[1;33m    print(name[0]\u001b[0m\n\u001b[1;37m                 ^\u001b[0m\n\u001b[1;31mSyntaxError\u001b[0m\u001b[1;31m:\u001b[0m unexpected EOF while parsing\n"
     ]
    }
   ],
   "source": [
    "name = \"RAWABI AHMED\"\n",
    "name\n"
   ]
  },
  {
   "cell_type": "code",
   "execution_count": 7,
   "id": "4705e6fe",
   "metadata": {},
   "outputs": [
    {
     "name": "stdout",
     "output_type": "stream",
     "text": [
      "R\n"
     ]
    }
   ],
   "source": [
    "print(name[0])"
   ]
  },
  {
   "cell_type": "code",
   "execution_count": 8,
   "id": "59649a18",
   "metadata": {},
   "outputs": [
    {
     "name": "stdout",
     "output_type": "stream",
     "text": [
      "D\n"
     ]
    }
   ],
   "source": [
    "print(name[-1])"
   ]
  },
  {
   "cell_type": "code",
   "execution_count": 9,
   "id": "c9dc84fc",
   "metadata": {},
   "outputs": [
    {
     "data": {
      "text/plain": [
       "11"
      ]
     },
     "execution_count": 9,
     "metadata": {},
     "output_type": "execute_result"
    }
   ],
   "source": [
    "len(\"Rawab ahmed\")"
   ]
  },
  {
   "cell_type": "code",
   "execution_count": 10,
   "id": "f5507773",
   "metadata": {},
   "outputs": [
    {
     "data": {
      "text/plain": [
       "'RAWA'"
      ]
     },
     "execution_count": 10,
     "metadata": {},
     "output_type": "execute_result"
    }
   ],
   "source": [
    "name[0:4]"
   ]
  },
  {
   "cell_type": "code",
   "execution_count": 11,
   "id": "7d5e68d6",
   "metadata": {},
   "outputs": [
    {
     "data": {
      "text/plain": [
       "'RWB HE'"
      ]
     },
     "execution_count": 11,
     "metadata": {},
     "output_type": "execute_result"
    }
   ],
   "source": [
    "name[::2]"
   ]
  },
  {
   "cell_type": "code",
   "execution_count": 12,
   "id": "735d6473",
   "metadata": {},
   "outputs": [
    {
     "data": {
      "text/plain": [
       "'RWB'"
      ]
     },
     "execution_count": 12,
     "metadata": {},
     "output_type": "execute_result"
    }
   ],
   "source": [
    "name[0:5:2]"
   ]
  },
  {
   "cell_type": "code",
   "execution_count": 13,
   "id": "5a841f8a",
   "metadata": {},
   "outputs": [
    {
     "data": {
      "text/plain": [
       "'RAWABI AHMEDis the best'"
      ]
     },
     "execution_count": 13,
     "metadata": {},
     "output_type": "execute_result"
    }
   ],
   "source": [
    "statement = name + \"is the best\"\n",
    "statement"
   ]
  },
  {
   "cell_type": "code",
   "execution_count": 14,
   "id": "ddb18731",
   "metadata": {},
   "outputs": [
    {
     "data": {
      "text/plain": [
       "'RAWABIRAWABIRAWABI'"
      ]
     },
     "execution_count": 14,
     "metadata": {},
     "output_type": "execute_result"
    }
   ],
   "source": [
    "3 * \"RAWABI\"\n"
   ]
  },
  {
   "cell_type": "code",
   "execution_count": 15,
   "id": "a3bdff70",
   "metadata": {},
   "outputs": [
    {
     "data": {
      "text/plain": [
       "'RAWABI is the best'"
      ]
     },
     "execution_count": 15,
     "metadata": {},
     "output_type": "execute_result"
    }
   ],
   "source": [
    "name = \"RAWABI\"\n",
    "name = name + \" is the best\"\n",
    "name"
   ]
  },
  {
   "cell_type": "code",
   "execution_count": 16,
   "id": "1afa08da",
   "metadata": {},
   "outputs": [
    {
     "name": "stdout",
     "output_type": "stream",
     "text": [
      " RAWABI \n",
      " is the best\n"
     ]
    }
   ],
   "source": [
    "print(\" Rawabi \\n is the best\" )"
   ]
  },
  {
   "cell_type": "code",
   "execution_count": 17,
   "id": "0487a112",
   "metadata": {},
   "outputs": [
    {
     "name": "stdout",
     "output_type": "stream",
     "text": [
      " Rawabi \t is the best\n"
     ]
    }
   ],
   "source": [
    "print(\" Rawabi \\t is the best\" )"
   ]
  },
  {
   "cell_type": "code",
   "execution_count": 18,
   "id": "36e9b954",
   "metadata": {},
   "outputs": [
    {
     "name": "stdout",
     "output_type": "stream",
     "text": [
      " Rawabi \\ is the best\n"
     ]
    }
   ],
   "source": [
    "print(\" Rawabi \\\\ is the best\" )"
   ]
  },
  {
   "cell_type": "code",
   "execution_count": 19,
   "id": "098d2f66",
   "metadata": {},
   "outputs": [
    {
     "name": "stdout",
     "output_type": "stream",
     "text": [
      " Rawabi \\ is the best\n"
     ]
    }
   ],
   "source": [
    "print(r\" Rawabi \\ is the best\" )"
   ]
  },
  {
   "cell_type": "code",
   "execution_count": 20,
   "id": "f631945b",
   "metadata": {},
   "outputs": [
    {
     "name": "stdout",
     "output_type": "stream",
     "text": [
      "before upper: RAWABI AHMED\n",
      "After upper: RAWABI AHMED\n"
     ]
    }
   ],
   "source": [
    "a = \"RAWABI AHMED\"\n",
    "print(\"before upper:\", a)\n",
    "b = a.upper()\n",
    "print(\"After upper:\", b)"
   ]
  },
  {
   "cell_type": "code",
   "execution_count": 21,
   "id": "03aef8a6",
   "metadata": {},
   "outputs": [
    {
     "data": {
      "text/plain": [
       "'ahmed ahmed is the best'"
      ]
     },
     "execution_count": 21,
     "metadata": {},
     "output_type": "execute_result"
    }
   ],
   "source": [
    "a = \"rawabi ahmed is the best\"\n",
    "b = a.replace('rawabi', 'ahmed')\n",
    "b"
   ]
  },
  {
   "cell_type": "code",
   "execution_count": 22,
   "id": "e005d16a",
   "metadata": {},
   "outputs": [
    {
     "data": {
      "text/plain": [
       "4"
      ]
     },
     "execution_count": 22,
     "metadata": {},
     "output_type": "execute_result"
    }
   ],
   "source": [
    "name = \"rawabi ahmed\"\n",
    "name.find('bi')"
   ]
  },
  {
   "cell_type": "code",
   "execution_count": 26,
   "id": "45089703",
   "metadata": {},
   "outputs": [
    {
     "data": {
      "text/plain": [
       "-1"
      ]
     },
     "execution_count": 26,
     "metadata": {},
     "output_type": "execute_result"
    }
   ],
   "source": [
    "\n",
    "name.find('ahmed')"
   ]
  },
  {
   "cell_type": "code",
   "execution_count": null,
   "id": "d710062f",
   "metadata": {},
   "outputs": [],
   "source": []
  },
  {
   "cell_type": "code",
   "execution_count": null,
   "id": "6d910158",
   "metadata": {},
   "outputs": [],
   "source": []
  },
  {
   "cell_type": "code",
   "execution_count": null,
   "id": "54d0b3f6",
   "metadata": {},
   "outputs": [],
   "source": []
  }
 ],
 "metadata": {
  "kernelspec": {
   "display_name": "Python 3 (ipykernel)",
   "language": "python",
   "name": "python3"
  },
  "language_info": {
   "codemirror_mode": {
    "name": "ipython",
    "version": 3
   },
   "file_extension": ".py",
   "mimetype": "text/x-python",
   "name": "python",
   "nbconvert_exporter": "python",
   "pygments_lexer": "ipython3",
   "version": "3.9.12"
  }
 },
 "nbformat": 4,
 "nbformat_minor": 5
}
