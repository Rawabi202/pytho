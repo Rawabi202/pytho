{
 "cells": [
  {
   "cell_type": "code",
   "execution_count": 6,
   "id": "582a5774",
   "metadata": {},
   "outputs": [
    {
     "data": {
      "text/plain": [
       "('di', 99, 2.2)"
      ]
     },
     "execution_count": 6,
     "metadata": {},
     "output_type": "execute_result"
    }
   ],
   "source": [
    "tuple1 = (\"di\",99,2.2 )\n",
    "tuple1"
   ]
  },
  {
   "cell_type": "code",
   "execution_count": 7,
   "id": "3dbb4358",
   "metadata": {},
   "outputs": [
    {
     "name": "stdout",
     "output_type": "stream",
     "text": [
      "di\n"
     ]
    }
   ],
   "source": [
    "print(tuple1[0])\n"
   ]
  },
  {
   "cell_type": "code",
   "execution_count": 8,
   "id": "688a4813",
   "metadata": {},
   "outputs": [
    {
     "name": "stdout",
     "output_type": "stream",
     "text": [
      "2.2\n"
     ]
    }
   ],
   "source": [
    "print(tuple1[2])\n"
   ]
  },
  {
   "cell_type": "code",
   "execution_count": 9,
   "id": "dbfc9ec4",
   "metadata": {},
   "outputs": [
    {
     "name": "stdout",
     "output_type": "stream",
     "text": [
      "<class 'str'>\n"
     ]
    }
   ],
   "source": [
    "print(type(tuple1[0]))"
   ]
  },
  {
   "cell_type": "code",
   "execution_count": 10,
   "id": "7ff49c69",
   "metadata": {},
   "outputs": [
    {
     "data": {
      "text/plain": [
       "2.2"
      ]
     },
     "execution_count": 10,
     "metadata": {},
     "output_type": "execute_result"
    }
   ],
   "source": [
    "tuple1[-1]"
   ]
  },
  {
   "cell_type": "code",
   "execution_count": 11,
   "id": "92fb4c37",
   "metadata": {},
   "outputs": [
    {
     "data": {
      "text/plain": [
       "('di', 99, 2.2, 'hard rock', 99)"
      ]
     },
     "execution_count": 11,
     "metadata": {},
     "output_type": "execute_result"
    }
   ],
   "source": [
    "tuple2 = tuple1 + (\"hard rock\", 99)\n",
    "tuple2"
   ]
  },
  {
   "cell_type": "code",
   "execution_count": 12,
   "id": "75769dcc",
   "metadata": {},
   "outputs": [
    {
     "data": {
      "text/plain": [
       "('di', 99, 2.2)"
      ]
     },
     "execution_count": 12,
     "metadata": {},
     "output_type": "execute_result"
    }
   ],
   "source": [
    "tuple2[0:3]"
   ]
  },
  {
   "cell_type": "code",
   "execution_count": 13,
   "id": "a0f43236",
   "metadata": {},
   "outputs": [
    {
     "data": {
      "text/plain": [
       "5"
      ]
     },
     "execution_count": 13,
     "metadata": {},
     "output_type": "execute_result"
    }
   ],
   "source": [
    "len(tuple2)"
   ]
  },
  {
   "cell_type": "code",
   "execution_count": 14,
   "id": "99345ab7",
   "metadata": {},
   "outputs": [],
   "source": [
    "Ratings = (0, 9, 6, 5, 10, 8, 9, 6, 2)"
   ]
  },
  {
   "cell_type": "code",
   "execution_count": 15,
   "id": "86fa406c",
   "metadata": {},
   "outputs": [
    {
     "data": {
      "text/plain": [
       "[0, 2, 5, 6, 6, 8, 9, 9, 10]"
      ]
     },
     "execution_count": 15,
     "metadata": {},
     "output_type": "execute_result"
    }
   ],
   "source": [
    "RatingsSorted = sorted(Ratings)\n",
    "RatingsSorted"
   ]
  },
  {
   "cell_type": "code",
   "execution_count": 16,
   "id": "7872e207",
   "metadata": {},
   "outputs": [],
   "source": [
    "NestedT =(1, 2, (\"pop\", \"rock\") ,(3,4),(\"disco\",(1,2)))"
   ]
  },
  {
   "cell_type": "code",
   "execution_count": 17,
   "id": "4067d6a9",
   "metadata": {},
   "outputs": [
    {
     "name": "stdout",
     "output_type": "stream",
     "text": [
      "Element 0 of Tuple:  1\n"
     ]
    }
   ],
   "source": [
    "print(\"Element 0 of Tuple: \", NestedT[0])"
   ]
  },
  {
   "cell_type": "code",
   "execution_count": 18,
   "id": "2772b1f8",
   "metadata": {},
   "outputs": [
    {
     "name": "stdout",
     "output_type": "stream",
     "text": [
      "Element 2, 1 of Tuple:  rock\n"
     ]
    }
   ],
   "source": [
    "print(\"Element 2, 1 of Tuple: \", NestedT[2][1])"
   ]
  },
  {
   "cell_type": "code",
   "execution_count": 19,
   "id": "3957d5ab",
   "metadata": {},
   "outputs": [
    {
     "data": {
      "text/plain": [
       "'r'"
      ]
     },
     "execution_count": 19,
     "metadata": {},
     "output_type": "execute_result"
    }
   ],
   "source": [
    "NestedT[2][1][0]"
   ]
  },
  {
   "cell_type": "code",
   "execution_count": 20,
   "id": "da674e60",
   "metadata": {},
   "outputs": [
    {
     "data": {
      "text/plain": [
       "1"
      ]
     },
     "execution_count": 20,
     "metadata": {},
     "output_type": "execute_result"
    }
   ],
   "source": [
    "NestedT[4][1][0]"
   ]
  },
  {
   "cell_type": "code",
   "execution_count": 22,
   "id": "54bbaeb0",
   "metadata": {},
   "outputs": [
    {
     "data": {
      "text/plain": [
       "('rawabi',\n",
       " 'ahmed',\n",
       " 'hi',\n",
       " 'hello',\n",
       " 'soft rock',\n",
       " 'R&B',\n",
       " 'progressive rock',\n",
       " 'disco')"
      ]
     },
     "execution_count": 22,
     "metadata": {},
     "output_type": "execute_result"
    }
   ],
   "source": [
    "genres_tuple = (\"rawabi\", \"ahmed\", \"hi\", \"hello\", \"soft rock\", \\\n",
    " \"R&B\", \"progressive rock\", \"disco\")\n",
    "genres_tuple"
   ]
  },
  {
   "cell_type": "code",
   "execution_count": null,
   "id": "2e920fa0",
   "metadata": {},
   "outputs": [],
   "source": []
  }
 ],
 "metadata": {
  "kernelspec": {
   "display_name": "Python 3 (ipykernel)",
   "language": "python",
   "name": "python3"
  },
  "language_info": {
   "codemirror_mode": {
    "name": "ipython",
    "version": 3
   },
   "file_extension": ".py",
   "mimetype": "text/x-python",
   "name": "python",
   "nbconvert_exporter": "python",
   "pygments_lexer": "ipython3",
   "version": "3.9.12"
  }
 },
 "nbformat": 4,
 "nbformat_minor": 5
}
